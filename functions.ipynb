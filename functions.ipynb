{
 "cells": [
  {
   "cell_type": "code",
   "execution_count": 1,
   "id": "bb071ba0-5550-46b6-ae37-e591bb88d20f",
   "metadata": {},
   "outputs": [
    {
     "name": "stdout",
     "output_type": "stream",
     "text": [
      "HELLO\n"
     ]
    }
   ],
   "source": [
    "#Question1. What is the difference between a function and a method in Python?\n",
    "\n",
    "#Answer. A function is a block of reusable code that is defined using the def keyword and can be called independently.\n",
    "\n",
    "#A method is similar to a function but is associated with an object and is called using the dot (.) notation.\n",
    "\n",
    "# Function\n",
    "def greet():\n",
    "    return \"Hello\"\n",
    "\n",
    "# Method\n",
    "message = \"hello\"\n",
    "print(message.upper())  # upper() is a string method"
   ]
  },
  {
   "cell_type": "code",
   "execution_count": 2,
   "id": "2f6f0a1b-6de8-4de3-9c8d-82c688007618",
   "metadata": {},
   "outputs": [
    {
     "data": {
      "text/plain": [
       "8"
      ]
     },
     "execution_count": 2,
     "metadata": {},
     "output_type": "execute_result"
    }
   ],
   "source": [
    "#Question2. Explain the concept of function arguments and parameters in Python.\n",
    "\n",
    "#Answer. Parameters are variables listed in a function definition.\n",
    "\n",
    "#Arguments are the actual values passed to the function when it's called.\n",
    "\n",
    "def add(a, b):  # a and b are parameters\n",
    "    return a + b\n",
    "\n",
    "add(5, 3)  # 5 and 3 are arguments"
   ]
  },
  {
   "cell_type": "code",
   "execution_count": 3,
   "id": "8648d9c2-2fc3-43f3-9efe-25ddc4a4f81f",
   "metadata": {},
   "outputs": [
    {
     "data": {
      "text/plain": [
       "10"
      ]
     },
     "execution_count": 3,
     "metadata": {},
     "output_type": "execute_result"
    }
   ],
   "source": [
    "#Question 3. What are the different ways to define and call a function in Python?\n",
    "\n",
    "#Answer. Functions are defined using def or lambda.\n",
    "\n",
    "#Called by function name with parentheses and required arguments.\n",
    "\n",
    "def square(x):\n",
    "    return x * x\n",
    "\n",
    "square(4)  # Regular function call\n",
    "\n",
    "# Lambda function\n",
    "double = lambda x: x * 2\n",
    "double(5)"
   ]
  },
  {
   "cell_type": "code",
   "execution_count": 4,
   "id": "608179b5-c343-43f9-94ad-75aa88e0bd76",
   "metadata": {},
   "outputs": [],
   "source": [
    "#Question4. What is the purpose of the return statement in a Python function?\n",
    "\n",
    "#Answer. The return statement ends the function and sends a result back to the caller.\n",
    "\n",
    "#It allows the output of a function to be used elsewhere.\n",
    "\n",
    "def multiply(a, b):\n",
    "    return a * b\n",
    "\n",
    "result = multiply(4, 5)"
   ]
  },
  {
   "cell_type": "code",
   "execution_count": 5,
   "id": "77e26844-7c91-4a0d-a9c5-8a59e9304310",
   "metadata": {},
   "outputs": [
    {
     "data": {
      "text/plain": [
       "1"
      ]
     },
     "execution_count": 5,
     "metadata": {},
     "output_type": "execute_result"
    }
   ],
   "source": [
    "#Question5. What are iterators in Python and how do they differ from iterables?\n",
    "\n",
    "#Answer. Iterable: An object that can return an iterator (e.g., list, tuple).\n",
    "\n",
    "#Iterator: An object with a __next__() method used to get the next item.\n",
    "\n",
    "#Difference: You can loop over iterables, but only iterators remember their state between iterations.\n",
    "\n",
    "lst = [1, 2, 3]\n",
    "it = iter(lst)  # it is now an iterator\n",
    "next(it)  # returns 1"
   ]
  },
  {
   "cell_type": "code",
   "execution_count": 9,
   "id": "48b787f2-2ce3-433e-9596-03d7924090b1",
   "metadata": {},
   "outputs": [],
   "source": [
    "#Question6. Explain the concept of generators in Python and how they are defined.\n",
    "\n",
    "#Answer. A generator is a function that yields values one at a time using yield instead of return.\n",
    "\n",
    "#They are used to handle large data without loading everything into memory.\n",
    "\n",
    "def count_up_to(n):\n",
    "    i = 1\n",
    "    while i <= n:\n",
    "        yield i\n",
    "        i += 1"
   ]
  },
  {
   "cell_type": "code",
   "execution_count": 10,
   "id": "160f21bf-51a6-4240-9673-f31ec2c70ff0",
   "metadata": {},
   "outputs": [],
   "source": [
    "#Question7. What are the advantages of using generators over regular functions?\n",
    "\n",
    "#Answer. Memory efficient: don’t store the entire result at once.\n",
    "\n",
    "#Faster for large datasets.\n",
    "\n",
    "#Lazy evaluation: generates values only when needed."
   ]
  },
  {
   "cell_type": "code",
   "execution_count": 12,
   "id": "f9b5f2df-94b8-4bd6-8c02-8dc2cfa6d8e6",
   "metadata": {},
   "outputs": [
    {
     "data": {
      "text/plain": [
       "9"
      ]
     },
     "execution_count": 12,
     "metadata": {},
     "output_type": "execute_result"
    }
   ],
   "source": [
    "#Question8. What is a lambda function in Python and when is it typically used?\n",
    "\n",
    "#A lambda function is an anonymous, one-line function defined using the lambda keyword.\n",
    "\n",
    "#Used where a short, throwaway function is needed.\n",
    "square = lambda x: x * x\n",
    "square(3)"
   ]
  },
  {
   "cell_type": "code",
   "execution_count": 16,
   "id": "eb36e3c6-ebec-4be2-962a-0f94fdb71414",
   "metadata": {},
   "outputs": [],
   "source": [
    "#Question9. Explain the purpose and usage of the map() function in Python.\n",
    "\n",
    "#Answer. map() applies a given function to all items in an iterable.\n",
    "\n",
    "#Returns a map object (which can be converted to a list).\n",
    "\n",
    "numbers = [1, 2, 3]\n",
    "squared = list(map(lambda x: x**2, numbers))"
   ]
  },
  {
   "cell_type": "code",
   "execution_count": 17,
   "id": "078b687b-d1f1-4031-a2ff-a2dcd45f6c20",
   "metadata": {},
   "outputs": [
    {
     "data": {
      "text/plain": [
       "6"
      ]
     },
     "execution_count": 17,
     "metadata": {},
     "output_type": "execute_result"
    }
   ],
   "source": [
    "#Question10. What is the difference between map(), reduce(), and filter() functions in Python?\n",
    "\n",
    "#map(): Transforms each item in an iterable.\n",
    "\n",
    "#filter(): Filters items based on a condition.\n",
    "\n",
    "#reduce(): Performs cumulative operation on items (requires functools).\n",
    "\n",
    "from functools import reduce\n",
    "\n",
    "reduce(lambda x, y: x + y, [1, 2, 3])  # Output: 6"
   ]
  },
  {
   "cell_type": "code",
   "execution_count": null,
   "id": "d76ef68b-745f-4495-ad9c-ed39d1de6991",
   "metadata": {},
   "outputs": [],
   "source": []
  },
  {
   "cell_type": "code",
   "execution_count": 18,
   "id": "a1b53fe4-97f0-4991-b797-0ac18020d9b1",
   "metadata": {},
   "outputs": [
    {
     "name": "stdout",
     "output_type": "stream",
     "text": [
      "12\n"
     ]
    }
   ],
   "source": [
    "#Question1. Write a Python function that takes a list of numbers as input and returns the sum of all even numbers in the list.\n",
    "\n",
    "#Answer\n",
    "def sum_even_numbers(numbers):\n",
    "    return sum(num for num in numbers if num % 2 == 0)\n",
    "\n",
    "# Example usage\n",
    "print(sum_even_numbers([1, 2, 3, 4, 5, 6]))  # Output: 12"
   ]
  },
  {
   "cell_type": "code",
   "execution_count": 24,
   "id": "beb724f1-508b-49e5-b8c6-8400027fe685",
   "metadata": {},
   "outputs": [
    {
     "name": "stdout",
     "output_type": "stream",
     "text": [
      "olleh\n"
     ]
    }
   ],
   "source": [
    "#Question2. Create a Python function that accepts a string and returns the reverse of that string.\n",
    "#Answer\n",
    "def reverse_string(text):\n",
    "    return text[::-1]\n",
    "\n",
    "# Example usage\n",
    "print(reverse_string(\"hello\"))  # Output: \"olleh\"\n"
   ]
  },
  {
   "cell_type": "code",
   "execution_count": 41,
   "id": "32043a50-a4cf-43f8-9118-256b387f6d27",
   "metadata": {},
   "outputs": [
    {
     "name": "stdout",
     "output_type": "stream",
     "text": [
      "[1, 4, 9, 16]\n"
     ]
    }
   ],
   "source": [
    "#Question3. Implement a Python function that takes a list of integers and returns a new list containing the squares of each number.\n",
    "\n",
    "#Answer\n",
    "def square_list(numbers):\n",
    "    return [num**2 for num in numbers]\n",
    "\n",
    "# Example usage\n",
    "print(square_list([1, 2, 3, 4]))  # Output: [1, 4, 9, 16]"
   ]
  },
  {
   "cell_type": "code",
   "execution_count": 50,
   "id": "c2b2f45a-3654-4126-a505-d24b9a85c8d9",
   "metadata": {},
   "outputs": [
    {
     "name": "stdout",
     "output_type": "stream",
     "text": [
      "[2, 3, 5, 7, 11, 13, 17, 19, 23, 29, 31, 37, 41, 43, 47, 53, 59, 61, 67, 71, 73, 79, 83, 89, 97, 101, 103, 107, 109, 113, 127, 131, 137, 139, 149, 151, 157, 163, 167, 173, 179, 181, 191, 193, 197, 199]\n"
     ]
    }
   ],
   "source": [
    "#Question4. Write a Python function that checks if a given number is prime or not from 1 to 200.\n",
    "#Answer\n",
    "def is_prime(n):\n",
    "    if n <= 1:\n",
    "        return False\n",
    "    for i in range(2, int(n**0.5)+1):\n",
    "        if n % i == 0:\n",
    "            return False\n",
    "    return True\n",
    "\n",
    "# Check all prime numbers from 1 to 200\n",
    "primes = [n for n in range(1, 201) if is_prime(n)]\n",
    "print(primes)"
   ]
  },
  {
   "cell_type": "code",
   "execution_count": 52,
   "id": "6d7a6f3f-782e-4e95-a617-c49b414ac3c4",
   "metadata": {},
   "outputs": [
    {
     "name": "stdout",
     "output_type": "stream",
     "text": [
      "0 1 1 2 3 5 8 13 21 34 "
     ]
    }
   ],
   "source": [
    "#Question5. Create an iterator class in Python that generates the Fibonacci sequence up to a specified number of terms.\n",
    "#Answer\n",
    "\n",
    "class FibonacciIterator:\n",
    "    def __init__(self, limit):\n",
    "        self.limit = limit\n",
    "        self.a, self.b = 0, 1\n",
    "        self.count = 0\n",
    "\n",
    "    def __iter__(self):\n",
    "        return self\n",
    "\n",
    "    def __next__(self):\n",
    "        if self.count >= self.limit:\n",
    "            raise StopIteration\n",
    "        self.count += 1\n",
    "        result = self.a\n",
    "        self.a, self.b = self.b, self.a + self.b\n",
    "        return result\n",
    "\n",
    "# Example usage\n",
    "for num in FibonacciIterator(10):\n",
    "    print(num, end=' ')\n"
   ]
  },
  {
   "cell_type": "code",
   "execution_count": 60,
   "id": "402f40d4-885a-477a-ba57-4ce98a9a2c7c",
   "metadata": {},
   "outputs": [
    {
     "name": "stdout",
     "output_type": "stream",
     "text": [
      "1\n",
      "2\n",
      "4\n",
      "8\n",
      "16\n",
      "32\n"
     ]
    }
   ],
   "source": [
    "#Question6. Write a generator function in Python that yields the powers of 2 up to a given exponent.\n",
    "#Answer\n",
    "def powers_of_two(exponent):\n",
    "    for i in range(exponent + 1):\n",
    "        yield 2 ** i\n",
    "\n",
    "# Example usage\n",
    "for value in powers_of_two(5):\n",
    "    print(value)"
   ]
  },
  {
   "cell_type": "code",
   "execution_count": 73,
   "id": "e7c6ce39-eb7e-4f67-a682-91d4d27755e2",
   "metadata": {},
   "outputs": [],
   "source": [
    "#Question7. Implement a generator function that reads a file line by line and yields each line as a string.\n",
    "#Answer\n",
    "def read_file_line_by_line(filename):\n",
    "    with open(filename, 'r') as file:\n",
    "        for line in file:\n",
    "            yield line.strip()"
   ]
  },
  {
   "cell_type": "code",
   "execution_count": 78,
   "id": "7501aeab-e884-4546-8325-912b9d917eba",
   "metadata": {},
   "outputs": [
    {
     "name": "stdout",
     "output_type": "stream",
     "text": [
      "[(4, 1), (2, 2), (1, 3)]\n"
     ]
    }
   ],
   "source": [
    "#Question8. Use a lambda function in Python to sort a list of tuples based on the second element of each tuple.\n",
    "#Answer.\n",
    "data = [(1, 3), (4, 1), (2, 2)]\n",
    "sorted_data = sorted(data, key=lambda x: x[1])\n",
    "print(sorted_data)\n"
   ]
  },
  {
   "cell_type": "code",
   "execution_count": 88,
   "id": "fc1316a8-5d5c-4904-b1ad-226f9ca81a04",
   "metadata": {},
   "outputs": [
    {
     "name": "stdout",
     "output_type": "stream",
     "text": [
      "[32.0, 68.0, 98.6, 212.0]\n"
     ]
    }
   ],
   "source": [
    "#Question9. Write a Python program that uses map() to convert a list of temperatures from Celsius to Fahrenheit.\n",
    "#Answer.\n",
    "celsius = [0, 20, 37, 100]\n",
    "fahrenheit = list(map(lambda c: (c * 9/5) + 32, celsius))\n",
    "print(fahrenheit)"
   ]
  },
  {
   "cell_type": "code",
   "execution_count": 93,
   "id": "86db0315-e5c0-4258-bc0d-1517a1a7a51e",
   "metadata": {},
   "outputs": [
    {
     "name": "stdout",
     "output_type": "stream",
     "text": [
      "Btfl Dy\n"
     ]
    }
   ],
   "source": [
    "#Question10. Create a Python program that uses filter() to remove all the vowels from a given string.\n",
    "#Answer.\n",
    "def remove_vowels(s):\n",
    "    return ''.join(filter(lambda ch: ch.lower() not in 'aeiou', s))\n",
    "\n",
    "# Example usage\n",
    "print(remove_vowels(\"Beautiful Day\"))"
   ]
  },
  {
   "cell_type": "code",
   "execution_count": 111,
   "id": "5abbbd8e-408d-4164-b0c8-05b93a2ebd75",
   "metadata": {},
   "outputs": [
    {
     "name": "stdout",
     "output_type": "stream",
     "text": [
      "[('34587', 163.8), ('98762', 177.5), ('77226', 84.85), ('88112', 116.85000000000001)]\n"
     ]
    }
   ],
   "source": [
    "#Question11. Imagine an accounting routine used in a book shop...\n",
    "#Each order looks like: [\"34587\", \"Learning Python\", 4, 40.95]\n",
    "\n",
    "#Return a list with tuples: (order number, total price)\n",
    "\n",
    "#Add €10 if total price is < €100\n",
    "#Answer.\n",
    "orders = [\n",
    "    [\"34587\", \"Learning Python\", 4, 40.95],\n",
    "    [\"98762\", \"Programming in C\", 5, 35.50],\n",
    "    [\"77226\", \"Data Science Book\", 3, 24.95],\n",
    "    [\"88112\", \"Machine Learning\", 3, 38.95]\n",
    "]\n",
    "\n",
    "# Using lambda and map\n",
    "final_prices = list(map(\n",
    "    lambda order: (order[0], order[2]*order[3] + (10 if order[2]*order[3] < 100 else 0)),\n",
    "    orders\n",
    "))\n",
    "\n",
    "print(final_prices)\n"
   ]
  },
  {
   "cell_type": "code",
   "execution_count": null,
   "id": "c1327647-8449-4e8c-a781-b80c74f8f131",
   "metadata": {},
   "outputs": [],
   "source": []
  },
  {
   "cell_type": "code",
   "execution_count": null,
   "id": "589001e1-2757-4b6d-9f55-fc8fa69a07d8",
   "metadata": {},
   "outputs": [],
   "source": []
  },
  {
   "cell_type": "code",
   "execution_count": null,
   "id": "be0b9c84-03f8-4b09-acda-b85c05e048b6",
   "metadata": {},
   "outputs": [],
   "source": []
  },
  {
   "cell_type": "code",
   "execution_count": null,
   "id": "a345ec0e-14b1-4261-a46a-97ad9caab16d",
   "metadata": {},
   "outputs": [],
   "source": []
  },
  {
   "cell_type": "code",
   "execution_count": null,
   "id": "95e1fff8-62d5-462f-8487-8534f7662775",
   "metadata": {},
   "outputs": [],
   "source": []
  },
  {
   "cell_type": "code",
   "execution_count": null,
   "id": "47a849ce-1717-4c8c-9fc5-61b74e65ce83",
   "metadata": {},
   "outputs": [],
   "source": []
  },
  {
   "cell_type": "code",
   "execution_count": null,
   "id": "01e441a6-323e-4e10-8d7b-0e4196b22931",
   "metadata": {},
   "outputs": [],
   "source": []
  },
  {
   "cell_type": "code",
   "execution_count": null,
   "id": "27adfa33-3a1c-425d-b254-4d9adbd117c5",
   "metadata": {},
   "outputs": [],
   "source": []
  },
  {
   "cell_type": "code",
   "execution_count": null,
   "id": "6e8db7fe-a6e4-4a95-b76a-37db682d378f",
   "metadata": {},
   "outputs": [],
   "source": []
  }
 ],
 "metadata": {
  "kernelspec": {
   "display_name": "Python 3 (ipykernel)",
   "language": "python",
   "name": "python3"
  },
  "language_info": {
   "codemirror_mode": {
    "name": "ipython",
    "version": 3
   },
   "file_extension": ".py",
   "mimetype": "text/x-python",
   "name": "python",
   "nbconvert_exporter": "python",
   "pygments_lexer": "ipython3",
   "version": "3.12.7"
  }
 },
 "nbformat": 4,
 "nbformat_minor": 5
}
